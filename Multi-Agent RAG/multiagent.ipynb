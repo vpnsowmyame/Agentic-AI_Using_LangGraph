{
 "cells": [
  {
   "cell_type": "code",
   "execution_count": 1,
   "id": "4388ca01",
   "metadata": {},
   "outputs": [],
   "source": [
    "import os\n",
    "from dotenv import load_dotenv\n",
    "load_dotenv()\n",
    "from langchain.chat_models import init_chat_model\n",
    "os.environ[\"TAVILY_API_KEY\"]=\"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\"\n",
    "os.environ[\"OPENAI_API_KEY\"]=os.getenv(\"OPENAI_API_KEY\")"
   ]
  },
  {
   "cell_type": "code",
   "execution_count": 3,
   "id": "f12a73e1",
   "metadata": {},
   "outputs": [
    {
     "data": {
      "text/plain": [
       "ChatOpenAI(client=<openai.resources.chat.completions.completions.Completions object at 0x00000186C9A06BA0>, async_client=<openai.resources.chat.completions.completions.AsyncCompletions object at 0x00000186C9A07620>, root_client=<openai.OpenAI object at 0x00000186C9A042F0>, root_async_client=<openai.AsyncOpenAI object at 0x00000186C9A07380>, model_name='gpt-4o-mini', model_kwargs={}, openai_api_key=SecretStr('**********'))"
      ]
     },
     "execution_count": 3,
     "metadata": {},
     "output_type": "execute_result"
    }
   ],
   "source": [
    "llm=init_chat_model(\"openai:gpt-4o-mini\")\n",
    "llm"
   ]
  },
  {
   "cell_type": "code",
   "execution_count": 5,
   "id": "9d078aea",
   "metadata": {},
   "outputs": [],
   "source": [
    "from typing import Annotated\n",
    "from langchain_tavily import TavilySearch\n",
    "from langchain_core.tools import tool\n",
    "from langchain.tools import WikipediaQueryRun\n",
    "from langchain.utilities import WikipediaAPIWrapper\n",
    "from langchain.document_loaders import TextLoader\n",
    "from langchain.vectorstores import FAISS\n",
    "from langchain_openai import OpenAIEmbeddings\n",
    "from langchain.text_splitter import RecursiveCharacterTextSplitter"
   ]
  },
  {
   "cell_type": "code",
   "execution_count": 6,
   "id": "a91f6a51",
   "metadata": {},
   "outputs": [],
   "source": [
    "tavily_tool=TavilySearch(max_results=5)"
   ]
  },
  {
   "cell_type": "code",
   "execution_count": 11,
   "id": "e49be368",
   "metadata": {},
   "outputs": [
    {
     "data": {
      "text/plain": [
       "Tool(name='InternalResearchNotes', description='Search internal research notes for experimental results', func=<function make_retriever_tool_from_text.<locals>.tool_func at 0x00000186C49DFF60>)"
      ]
     },
     "execution_count": 11,
     "metadata": {},
     "output_type": "execute_result"
    }
   ],
   "source": [
    "### generic function to create a retrieval tool\\n\",\n",
    "from langchain.agents import Tool\n",
    "def make_retriever_tool_from_text(file,name,desc):\n",
    "   docs=TextLoader(file,encoding=\"utf-8\").load()\n",
    "   chunks = RecursiveCharacterTextSplitter(chunk_size=500, chunk_overlap=50).split_documents(docs)\n",
    "   vs = FAISS.from_documents(chunks, OpenAIEmbeddings())\n",
    "   retriever = vs.as_retriever()\n",
    "\n",
    "   def tool_func(query:str)->str:\n",
    "        print(f\"📚 Using tool: {name}\")\n",
    "        results = retriever.invoke(query)\n",
    "        return \"\".join(doc.page_content for doc in results)\n",
    "    \n",
    "   return Tool(name=name,description=desc,func=tool_func)\n",
    "internal_tool_1=make_retriever_tool_from_text(\"sample_docs.txt\",\n",
    "                                             \"InternalResearchNotes\",\"Search internal research notes for experimental results\")\n",
    "internal_tool_1"
   ]
  },
  {
   "cell_type": "code",
   "execution_count": 13,
   "id": "3ccd6cf4",
   "metadata": {},
   "outputs": [],
   "source": [
    "from langchain_core.messages import BaseMessage, HumanMessage\n",
    "from langgraph.prebuilt import create_react_agent\n",
    "from langgraph.graph import MessagesState, END\n",
    "from langgraph.types import Command\n",
    "def get_next_node(last_message: BaseMessage, goto: str):\n",
    "       if \"FINAL ANSWER\" in last_message.content:\n",
    "           # Any agent decided the work is done\n",
    "           return END\n",
    "       return goto"
   ]
  },
  {
   "cell_type": "code",
   "execution_count": 15,
   "id": "93118451",
   "metadata": {},
   "outputs": [],
   "source": [
    "def make_system_prompt(suffix: str) -> str:\n",
    "    return (\n",
    "    \"You are a helpful AI assistant, collaborating with other assistants.\"\n",
    "    \"Use the provided tools to progress towards answering the question.\"\n",
    "    \"If you are unable to fully answer, that's OK, another assistant with different tools\" \n",
    "    \"will help where you left off. Execute what you can to make progress.\"\n",
    "    \"If you or any of the other assistants have the final answer or deliverable,\"\n",
    "    \"prefix your response with FINAL ANSWER so the team knows to stop.\"\n",
    "    f\"{suffix}\"\n",
    ")"
   ]
  },
  {
   "cell_type": "code",
   "execution_count": 17,
   "id": "d510da41",
   "metadata": {},
   "outputs": [
    {
     "data": {
      "image/png": "[encoded data removed]",
      "text/plain": [
       "<langgraph.graph.state.CompiledStateGraph object at 0x00000186DA95E7B0>"
      ]
     },
     "execution_count": 17,
     "metadata": {},
     "output_type": "execute_result"
    }
   ],
   "source": [
    "### Reaearch agent and node\\n\",\n",
    "research_agent=create_react_agent(\n",
    "        llm,\n",
    "        tools=[internal_tool_1,tavily_tool],\n",
    "        prompt=make_system_prompt(\"You can only do research. Use the tool that you are binded with, you can use both of them\"\n",
    "        \" You are working with a content writer colleague.\")\n",
    "    )\n",
    "research_agent"
   ]
  },
  {
   "cell_type": "code",
   "execution_count": 18,
   "id": "d49d8734",
   "metadata": {},
   "outputs": [],
   "source": [
    "## Reaearch node\\n\",\n",
    "from typing import Literal\n",
    "def research_node(state:MessagesState)-> Command[Literal[\"blog_generator\",END]]:\n",
    "        result = research_agent.invoke(state)\n",
    "        goto = get_next_node(result[\"messages\"][-1], \"blog_generator\")\n",
    "        # wrap in a human message, as not all providers allow\n",
    "        # AI message at the last position of the input messages list\n",
    "        result[\"messages\"][-1] = HumanMessage(\n",
    "            content=result[\"messages\"][-1].content, name=\"researcher\"\n",
    "        )\n",
    "        return Command(\n",
    "            update={\n",
    "                # share internal message history of research agent with other agents\"\n",
    "                \"messages\": result[\"messages\"],\n",
    "            },\n",
    "            goto=goto,\n",
    "        )"
   ]
  },
  {
   "cell_type": "code",
   "execution_count": 21,
   "id": "57cedbef",
   "metadata": {},
   "outputs": [],
   "source": [
    "### Blog write agent\\n\",\n",
    "blog_agent=create_react_agent(\n",
    "        llm,\n",
    "        tools=[],\n",
    "        prompt=make_system_prompt(\n",
    "            \"You can only write a detailed blog. You are working with a researcher colleague.\",\n",
    "        )\n",
    "    )\n",
    "def blog_node(state: MessagesState) -> Command[Literal[\"researcher\", END]]:\n",
    "        result = blog_agent.invoke(state)\n",
    "        goto = get_next_node(result[\"messages\"][-1], \"researcher\")\n",
    "        # wrap in a human message, as not all providers allow\\n\",\n",
    "        # AI message at the last position of the input messages list\\n\",\n",
    "        result[\"messages\"][-1] = HumanMessage(\n",
    "            content=result[\"messages\"][-1].content, name=\"blog_generator\")\n",
    "        return Command(\n",
    "            update={\n",
    "                # share internal message history of chart agent with other agents\\n\",\n",
    "                \"messages\": result[\"messages\"],\n",
    "            },\n",
    "            goto=goto,\n",
    "        )"
   ]
  },
  {
   "cell_type": "code",
   "execution_count": 22,
   "id": "fbe14fd4",
   "metadata": {},
   "outputs": [
    {
     "data": {
      "image/png": "[encoded data removed]",
      "text/plain": [
       "<langgraph.graph.state.CompiledStateGraph object at 0x00000186FD174CD0>"
      ]
     },
     "execution_count": 22,
     "metadata": {},
     "output_type": "execute_result"
    }
   ],
   "source": [
    "from langgraph.graph import StateGraph, START\n",
    "workflow = StateGraph(MessagesState)\n",
    "workflow.add_node(\"researcher\", research_node)\n",
    "workflow.add_node(\"blog_generator\", blog_node)\n",
    "workflow.add_edge(START, \"researcher\")\n",
    "graph = workflow.compile()\n",
    "graph"
   ]
  },
  {
   "cell_type": "code",
   "execution_count": 23,
   "id": "a85df8ad",
   "metadata": {},
   "outputs": [
    {
     "name": "stdout",
     "output_type": "stream",
     "text": [
      "📚 Using tool: InternalResearchNotes\n"
     ]
    }
   ],
   "source": [
    "response=graph.invoke({\"messages\":\"Write a detailed blog on transformer variants in production deployments\"})"
   ]
  },
  {
   "cell_type": "code",
   "execution_count": 24,
   "id": "12a06854",
   "metadata": {},
   "outputs": [
    {
     "data": {
      "text/plain": [
       "TavilySearch(max_results=3, api_wrapper=TavilySearchAPIWrapper(tavily_api_key=SecretStr('**********'), api_base_url=None))"
      ]
     },
     "execution_count": 24,
     "metadata": {},
     "output_type": "execute_result"
    }
   ],
   "source": [
    "from langchain_tavily import TavilySearch\n",
    "web_search = TavilySearch(max_results=3)\n",
    "web_search"
   ]
  },
  {
   "cell_type": "code",
   "execution_count": 25,
   "id": "b77357f0",
   "metadata": {},
   "outputs": [
    {
     "data": {
      "image/png": "[encoded data removed]",
      "text/plain": [
       "<langgraph.graph.state.CompiledStateGraph object at 0x00000186FD0D3A80>"
      ]
     },
     "execution_count": 25,
     "metadata": {},
     "output_type": "execute_result"
    }
   ],
   "source": [
    "from langgraph.prebuilt import create_react_agent\n",
    "research_agent=create_react_agent(\n",
    "        model=llm,\n",
    "        tools=[web_search,internal_tool_1],\n",
    "        prompt=(\n",
    "            \"You are a research agent.\"\n",
    "            \"INSTRUCTIONS:\"\n",
    "            \"- Assist ONLY with research-related tasks, DO NOT do any math\"\n",
    "            \"- After you're done with your tasks, respond to the supervisor directly\"\n",
    "            \"- Respond ONLY with the results of your work, do NOT include ANY other text.\"\n",
    "        ),\n",
    "        name=\"research_agent\"\n",
    "    )\n",
    "research_agent"
   ]
  },
  {
   "cell_type": "code",
   "execution_count": 27,
   "id": "a44949f7",
   "metadata": {},
   "outputs": [],
   "source": [
    "def add(a: float, b: float):\n",
    "    \"\"\"Adds two numbers, a and b.\"\"\"\n",
    "    return a + b\n",
    "def multiply(a: float, b: float):\n",
    "    \"\"\"Multiplies two numbers, a and b.\"\"\" \n",
    "    return a * b\n",
    "def divide(a: float, b: float):\n",
    "    \"\"\"Divides number a by number b.\"\"\" \n",
    "    return a / b\n",
    "math_agent=create_react_agent(\n",
    "        model=llm,\n",
    "        tools=[add,multiply,divide],\n",
    "        prompt=(\n",
    "            \"You are a math agent.\"\n",
    "            \"INSTRUCTIONS:\"\n",
    "            \"- Assist ONLY with math-related tasks\"\n",
    "            \"- After you're done with your tasks, respond to the supervisor directly\"\n",
    "            \"- Respond ONLY with the results of your work, do NOT include ANY other text.\"\n",
    "        ),\n",
    "        name=\"math_agent\"\n",
    ")"
   ]
  },
  {
   "cell_type": "code",
   "execution_count": 29,
   "id": "42a7912b",
   "metadata": {},
   "outputs": [
    {
     "data": {
      "image/png": "[encoded data removed]",
      "text/plain": [
       "<langgraph.graph.state.CompiledStateGraph object at 0x00000186FD08F9B0>"
      ]
     },
     "execution_count": 29,
     "metadata": {},
     "output_type": "execute_result"
    }
   ],
   "source": [
    "### create supervisor agent\\n\",\n",
    "from langgraph_supervisor import create_supervisor\n",
    "supervisor=create_supervisor(\n",
    "    model=llm,\n",
    "    agents=[research_agent,math_agent],\n",
    "    prompt=(\n",
    "         \"You are a supervisor managing two agents:\"\n",
    "         \"- a research agent. Assign research-related tasks to this agent\"\n",
    "         \"- a math agent. Assign math-related tasks to this agent\"\n",
    "         \"Assign work to one agent at a time, do not call agents in parallel.\"\n",
    "        \"Do not do any work yourself.\"\n",
    "    ),\n",
    "    add_handoff_back_messages=True,\n",
    "       output_mode=\"full_history\"\n",
    "    ).compile()\n",
    "supervisor"
   ]
  },
  {
   "cell_type": "code",
   "execution_count": 30,
   "id": "ce615749",
   "metadata": {},
   "outputs": [
    {
     "name": "stdout",
     "output_type": "stream",
     "text": [
      "📚 Using tool: InternalResearchNotes\n"
     ]
    }
   ],
   "source": [
    "response=supervisor.invoke({\"messages\":\" list all the transformer variants in production deployments from the retriever and then tell me what is 5 plus 10\"})"
   ]
  },
  {
   "cell_type": "code",
   "execution_count": 32,
   "id": "9e59198f",
   "metadata": {},
   "outputs": [
    {
     "data": {
      "text/plain": [
       "'The research agent did not find specific transformer variants in production deployments. However, I can confirm that 5 plus 10 equals 15.'"
      ]
     },
     "execution_count": 32,
     "metadata": {},
     "output_type": "execute_result"
    }
   ],
   "source": [
    "response[\"messages\"][-1].content"
   ]
  }
 ],
 "metadata": {
  "kernelspec": {
   "display_name": "env",
   "language": "python",
   "name": "python3"
  },
  "language_info": {
   "codemirror_mode": {
    "name": "ipython",
    "version": 3
   },
   "file_extension": ".py",
   "mimetype": "text/x-python",
   "name": "python",
   "nbconvert_exporter": "python",
   "pygments_lexer": "ipython3",
   "version": "3.13.5"
  }
 },
 "nbformat": 4,
 "nbformat_minor": 5
}
