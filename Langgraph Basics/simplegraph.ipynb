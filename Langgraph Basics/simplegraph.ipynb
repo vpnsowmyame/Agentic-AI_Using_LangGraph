{
 "cells": [
  {
   "cell_type": "code",
   "execution_count": 3,
   "id": "419fdf74",
   "metadata": {},
   "outputs": [],
   "source": [
    "## Build a simple workflow using Langgraph\n",
    "\n",
    "from typing_extensions import TypedDict\n",
    "class State(TypedDict):\n",
    "     graph_info:str"
   ]
  },
  {
   "cell_type": "code",
   "execution_count": 5,
   "id": "90061b8d",
   "metadata": {},
   "outputs": [],
   "source": [
    "def start_play(state:State):\n",
    "        print(\"Start_Play node has been called\")\n",
    "        return {\"graph_info\":state['graph_info'] + \" I am planning to play\"}\n",
    "\n",
    "def cricket(state:State):\n",
    "        print(\"My Cricket node has been called\")\n",
    "        return {\"graph_info\":state['graph_info'] + \" Cricket\"}\n",
    "    \n",
    "def badminton(state:State):\n",
    "        print(\"My badminton node has been called\")\n",
    "        return {\"graph_info\":state['graph_info'] + \" Badminton\"}"
   ]
  },
  {
   "cell_type": "code",
   "execution_count": 6,
   "id": "79c766c4",
   "metadata": {},
   "outputs": [],
   "source": [
    "import random\n",
    "from typing import Literal\n",
    "\n",
    "def random_play(state: State) -> Literal['cricket', 'badminton']:\n",
    "    graph_info = state['graph_info']\n",
    "    if random.random() > 0.5:\n",
    "        return \"cricket\"\n",
    "    else:\n",
    "        return \"badminton\""
   ]
  },
  {
   "cell_type": "code",
   "execution_count": 7,
   "id": "a0790691",
   "metadata": {},
   "outputs": [
    {
     "data": {
      "image/png": "[encoded data removed]",
      "text/plain": [
       "<IPython.core.display.Image object>"
      ]
     },
     "metadata": {},
     "output_type": "display_data"
    }
   ],
   "source": [
    "from IPython.display import Image,display\n",
    "from langgraph.graph import StateGraph,START,END\n",
    "\n",
    "## Build Graph\n",
    "graph=StateGraph(State)\n",
    "## Adding the nodes\n",
    "graph.add_node(\"start_play\",start_play)\n",
    "graph.add_node(\"cricket\",cricket)\n",
    "graph.add_node(\"badminton\",badminton)\n",
    "\n",
    "## Schedule the flow of the graph\n",
    "graph.add_edge(START,\"start_play\")\n",
    "graph.add_conditional_edges(\"start_play\",random_play)\n",
    "graph.add_edge(\"cricket\",END)\n",
    "graph.add_edge(\"badminton\",END)\n",
    "               \n",
    "## Compile the graph\n",
    "graph_builder=graph.compile()\n",
    "## View\n",
    "display(Image(graph_builder.get_graph().draw_mermaid_png()))"
   ]
  },
  {
   "cell_type": "code",
   "execution_count": 10,
   "id": "0ce53ed6",
   "metadata": {},
   "outputs": [
    {
     "name": "stdout",
     "output_type": "stream",
     "text": [
      "Start_Play node has been called\n",
      "My badminton node has been called\n"
     ]
    },
    {
     "data": {
      "text/plain": [
       "{'graph_info': 'My name is Sowmya I am planning to play Badminton'}"
      ]
     },
     "execution_count": 10,
     "metadata": {},
     "output_type": "execute_result"
    }
   ],
   "source": [
    "graph_builder.invoke({\"graph_info\":\"My name is Sowmya\"})"
   ]
  }
 ],
 "metadata": {
  "kernelspec": {
   "display_name": "env",
   "language": "python",
   "name": "python3"
  },
  "language_info": {
   "codemirror_mode": {
    "name": "ipython",
    "version": 3
   },
   "file_extension": ".py",
   "mimetype": "text/x-python",
   "name": "python",
   "nbconvert_exporter": "python",
   "pygments_lexer": "ipython3",
   "version": "3.13.5"
  }
 },
 "nbformat": 4,
 "nbformat_minor": 5
}
