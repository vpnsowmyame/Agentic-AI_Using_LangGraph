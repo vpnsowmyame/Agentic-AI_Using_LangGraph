{
 "cells": [
  {
   "cell_type": "code",
   "execution_count": 1,
   "id": "6ecc5386",
   "metadata": {},
   "outputs": [],
   "source": [
    "from langchain_community.tools import ArxivQueryRun,WikipediaQueryRun\n",
    "from langchain_community.utilities import WikipediaAPIWrapper,ArxivAPIWrapper"
   ]
  },
  {
   "cell_type": "code",
   "execution_count": 2,
   "id": "c279992b",
   "metadata": {},
   "outputs": [
    {
     "name": "stdout",
     "output_type": "stream",
     "text": [
      "arxiv\n"
     ]
    }
   ],
   "source": [
    "api_wrapper_arxiv=ArxivAPIWrapper(top_k_results=2,doc_content_chars_max=500)\n",
    "arxiv=ArxivQueryRun(api_wrapper=api_wrapper_arxiv)\n",
    "print(arxiv.name)"
   ]
  },
  {
   "cell_type": "code",
   "execution_count": 3,
   "id": "03e73f8b",
   "metadata": {},
   "outputs": [
    {
     "data": {
      "text/plain": [
       "\"Published: 2024-07-22\\nTitle: Attention Is All You Need But You Don't Need All Of It For Inference of Large Language Models\\nAuthors: Georgy Tyukin, Gbetondji J-S Dovonon, Jean Kaddour, Pasquale Minervini\\nSummary: The inference demand for LLMs has skyrocketed in recent months, and serving\\nmodels with low latencies remains challenging due to the quadratic input length\\ncomplexity of the attention layers. In this work, we investigate the effect of\\ndropping MLP and attention layers at inference time o\""
      ]
     },
     "execution_count": 3,
     "metadata": {},
     "output_type": "execute_result"
    }
   ],
   "source": [
    "arxiv.invoke(\"Attention iss all you need\")"
   ]
  },
  {
   "cell_type": "code",
   "execution_count": 4,
   "id": "0575363d",
   "metadata": {},
   "outputs": [
    {
     "data": {
      "text/plain": [
       "'wikipedia'"
      ]
     },
     "execution_count": 4,
     "metadata": {},
     "output_type": "execute_result"
    }
   ],
   "source": [
    "api_wrapper_wiki=WikipediaAPIWrapper(top_k_results=1,doc_content_chars_max=500)\n",
    "wiki=WikipediaQueryRun(api_wrapper=api_wrapper_wiki)\n",
    "wiki.name"
   ]
  },
  {
   "cell_type": "code",
   "execution_count": 5,
   "id": "8a1327e3",
   "metadata": {},
   "outputs": [
    {
     "data": {
      "text/plain": [
       "'Page: Machine learning\\nSummary: Machine learning (ML) is a field of study in artificial intelligence concerned with the development and study of statistical algorithms that can learn from data and generalise to unseen data, and thus perform tasks without explicit instructions. Within a subdiscipline in machine learning, advances in the field of deep learning have allowed neural networks, a class of statistical algorithms, to surpass many previous machine learning approaches in performance.\\nML fi'"
      ]
     },
     "execution_count": 5,
     "metadata": {},
     "output_type": "execute_result"
    }
   ],
   "source": [
    "wiki.invoke(\"What is machine learning\")"
   ]
  },
  {
   "cell_type": "code",
   "execution_count": 7,
   "id": "16caef8f",
   "metadata": {},
   "outputs": [],
   "source": [
    "from dotenv import load_dotenv\n",
    "load_dotenv()\n",
    "import os\n",
    "os.environ[\"TAVILY_API_KEY\"]=os.getenv(\"TAVILY_API_KEY\")\n",
    "os.environ[\"LANGCHAIN_API_KEY\"]=os.getenv(\"LANGCHAIN_API_KEY\")\n",
    "os.environ[\"LANGCHAIN_TRACING_V2\"] = \"true\"\n",
    "os.environ[\"LANGCHAIN_PROJECT\"]=\"ReAct-agent\""
   ]
  },
  {
   "cell_type": "code",
   "execution_count": 8,
   "id": "49a10838",
   "metadata": {},
   "outputs": [],
   "source": [
    "### Custom Functions\n",
    "def multiply(a: int, b: int) -> int:\n",
    "    \"\"\"Multiply a and b.\n",
    "    Args:\n",
    "            a: first int\n",
    "            b: second int\n",
    "    \"\"\"\n",
    "    return a * b\n",
    "# This will be a tool\n",
    "def add(a: int, b: int) -> int:\n",
    "    \"\"\"Adds a and b.\n",
    "    Args:\n",
    "            a: first int\n",
    "            b: second int\n",
    "    \"\"\"\n",
    "    return a + b\n",
    "def divide(a: int, b: int) -> float:\n",
    "    \"\"\"\n",
    "    Args:\n",
    "            a: first int\n",
    "            b: second int\\\n",
    "    \"\"\"\n",
    "    return a / b\n",
    "    \n",
    "tools=[arxiv,wiki,add,multiply,divide]"
   ]
  },
  {
   "cell_type": "code",
   "execution_count": 9,
   "id": "22560488",
   "metadata": {},
   "outputs": [
    {
     "name": "stderr",
     "output_type": "stream",
     "text": [
      "C:\\Users\\Win 11\\AppData\\Local\\Temp\\ipykernel_6020\\637379855.py:3: LangChainDeprecationWarning: The class `TavilySearchResults` was deprecated in LangChain 0.3.25 and will be removed in 1.0. An updated version of the class exists in the :class:`~langchain-tavily package and should be used instead. To use it run `pip install -U :class:`~langchain-tavily` and import as `from :class:`~langchain_tavily import TavilySearch``.\n",
      "  tavily = TavilySearchResults()\n"
     ]
    }
   ],
   "source": [
    "### Tavily Search Tool\n",
    "from langchain_community.tools.tavily_search import TavilySearchResults\n",
    "tavily = TavilySearchResults()"
   ]
  },
  {
   "cell_type": "code",
   "execution_count": 10,
   "id": "fa419afb",
   "metadata": {},
   "outputs": [
    {
     "data": {
      "text/plain": [
       "[{'title': 'Top 5 AI trends in March 2025: AI agents, smarter supply ... - Neudesic',\n",
       "  'url': 'https://www.neudesic.com/blog/top-5-ai-trends-march-2025/',\n",
       "  'content': \"1. OpenAI Releases New Tools for Building AI Agents · 2. Microsoft's KBLaM: External Knowledge Integration for LLMs · 3. Neudesic's AI-Powered\",\n",
       "  'score': 0.98292},\n",
       " {'title': 'The latest AI news we announced in March - Google Blog',\n",
       "  'url': 'https://blog.google/technology/ai/google-ai-updates-march-2025/',\n",
       "  'content': \"Here's a recap of some of our biggest AI updates from March, including Gemini 2.5 Pro, expanded access to AI Overviews, the release of AI Mode and more.\",\n",
       "  'score': 0.97993},\n",
       " {'title': 'AI INTELLIGENCE | Weekly Top 10 (3/14/25)',\n",
       "  'url': 'https://dwealth.news/2025/03/ai-intelligence-weekly-top-10-3-14-25/',\n",
       "  'content': \"Mar 13, 2025—Key AI news includesOpenAI's creative writing model, Alibaba's Quark upgrade, China's Manus AI autonomy, and Google's Gemini Robotics.\",\n",
       "  'score': 0.9768},\n",
       " {'title': 'AI Pulse News Roundup (March 2025 Edition)',\n",
       "  'url': 'https://community.openai.com/t/ai-pulse-news-roundup-march-2025-edition/1132414',\n",
       "  'content': 'Welcome to theMarch 2025 AI Pulse News Roundup Thread! This is your space to: :bulb: Post breaking news about AI research, applications, policies, product',\n",
       "  'score': 0.97214},\n",
       " {'title': 'March 2025 - The Artificial Intelligence Revolution - Choreo Advisors',\n",
       "  'url': 'https://choreoadvisors.com/market-perspectives/march-2025-the-artificial-intelligence-revolution/',\n",
       "  'content': 'AI is a major revolution, with rapid adoption, near-expert capabilities, and could contribute $15.7 trillion to the global economy by 2030.',\n",
       "  'score': 0.96321}]"
      ]
     },
     "execution_count": 10,
     "metadata": {},
     "output_type": "execute_result"
    }
   ],
   "source": [
    "tavily.invoke(\"Provide me the recent AI news for march 3rd 2025\")"
   ]
  },
  {
   "cell_type": "code",
   "execution_count": 11,
   "id": "9ea3c26c",
   "metadata": {},
   "outputs": [],
   "source": [
    "### Combine all the tools in the list\n",
    "tools=[arxiv,wiki,tavily,add,divide,multiply]"
   ]
  },
  {
   "cell_type": "code",
   "execution_count": 12,
   "id": "1e45c8b8",
   "metadata": {},
   "outputs": [],
   "source": [
    "## Initialize my LLM model\n",
    "from langchain.chat_models import init_chat_model\n",
    "llm=init_chat_model(model=\"openai:gpt-3.5-turbo\")\n",
    "llm_with_tools=llm.bind_tools(tools)"
   ]
  },
  {
   "cell_type": "code",
   "execution_count": 13,
   "id": "a890fa56",
   "metadata": {},
   "outputs": [
    {
     "data": {
      "text/plain": [
       "AIMessage(content='', additional_kwargs={'tool_calls': [{'id': 'call_XcUhxRRdqj86c9fD9MiF8tw3', 'function': {'arguments': '{\"query\":\"recent AI news\"}', 'name': 'tavily_search_results_json'}, 'type': 'function'}], 'refusal': None}, response_metadata={'token_usage': {'completion_tokens': 20, 'prompt_tokens': 324, 'total_tokens': 344, 'completion_tokens_details': {'accepted_prediction_tokens': 0, 'audio_tokens': 0, 'reasoning_tokens': 0, 'rejected_prediction_tokens': 0}, 'prompt_tokens_details': {'audio_tokens': 0, 'cached_tokens': 0}}, 'model_name': 'gpt-3.5-turbo-0125', 'system_fingerprint': None, 'id': 'chatcmpl-CMTAmwHl45EBrcm49EMTgqx1WyZfT', 'service_tier': 'default', 'finish_reason': 'tool_calls', 'logprobs': None}, id='run--853a427a-c549-478f-8504-47fe035aed01-0', tool_calls=[{'name': 'tavily_search_results_json', 'args': {'query': 'recent AI news'}, 'id': 'call_XcUhxRRdqj86c9fD9MiF8tw3', 'type': 'tool_call'}], usage_metadata={'input_tokens': 324, 'output_tokens': 20, 'total_tokens': 344, 'input_token_details': {'audio': 0, 'cache_read': 0}, 'output_token_details': {'audio': 0, 'reasoning': 0}})"
      ]
     },
     "execution_count": 13,
     "metadata": {},
     "output_type": "execute_result"
    }
   ],
   "source": [
    "from pprint import pprint\n",
    "from langchain_core.messages import AIMessage, HumanMessage\n",
    "llm_with_tools.invoke([HumanMessage(content=f\"What is the recent AI News\")])"
   ]
  },
  {
   "cell_type": "code",
   "execution_count": 14,
   "id": "9f3f4d7c",
   "metadata": {},
   "outputs": [
    {
     "data": {
      "text/plain": [
       "[{'name': 'tavily_search_results_json',\n",
       "  'args': {'query': 'recent AI news'},\n",
       "  'id': 'call_iWB2FrYOVANx9fe93Q6Js1Nn',\n",
       "  'type': 'tool_call'}]"
      ]
     },
     "execution_count": 14,
     "metadata": {},
     "output_type": "execute_result"
    }
   ],
   "source": [
    "llm_with_tools.invoke([HumanMessage(content=f\"What is the recent AI News\")]).tool_calls"
   ]
  },
  {
   "cell_type": "code",
   "execution_count": 17,
   "id": "57d073fc",
   "metadata": {},
   "outputs": [],
   "source": [
    "## State Schema\\n\",\n",
    "from typing_extensions import TypedDict\n",
    "from langchain_core.messages import AnyMessage\n",
    "from typing import Annotated\n",
    "from langgraph.graph.message import add_messages\n",
    "class State(TypedDict):\n",
    "    messages:Annotated[list[AnyMessage],add_messages]"
   ]
  },
  {
   "cell_type": "code",
   "execution_count": 20,
   "id": "2b6180ee",
   "metadata": {},
   "outputs": [
    {
     "data": {
      "image/png": "[encoded data removed]",
      "text/plain": [
       "<IPython.core.display.Image object>"
      ]
     },
     "metadata": {},
     "output_type": "display_data"
    }
   ],
   "source": [
    "### Entire Chatbot With LangGraph\n",
    "from IPython.display import Image, display\n",
    "from langgraph.graph import StateGraph, START, END\n",
    "from langgraph.prebuilt import ToolNode\n",
    "from langgraph.prebuilt import tools_condition\n",
    "### Node definition\n",
    "def tool_calling_llm(state:State):\n",
    "    return {\"messages\":[llm_with_tools.invoke(state[\"messages\"])]}\n",
    "# Build graph\n",
    "builder = StateGraph(State)\n",
    "builder.add_node(\"tool_calling_llm\", tool_calling_llm)\n",
    "builder.add_node(\"tools\", ToolNode(tools))\n",
    "builder.add_edge(START, \"tool_calling_llm\")\n",
    "builder.add_conditional_edges(\n",
    "    \"tool_calling_llm\",\n",
    "    # If the latest message (result) from assistant is a tool call -> tools_condition routes to tools\\n\",\n",
    "    # If the latest message (result) from assistant is a not a tool call -> tools_condition routes to END\\n\",\n",
    "    tools_condition,\n",
    "    )\n",
    "builder.add_edge(\"tools\",\"tool_calling_llm\")\n",
    "graph = builder.compile()\n",
    "# View\n",
    "display(Image(graph.get_graph().draw_mermaid_png()))"
   ]
  },
  {
   "cell_type": "code",
   "execution_count": 22,
   "id": "7a74c471",
   "metadata": {},
   "outputs": [
    {
     "name": "stdout",
     "output_type": "stream",
     "text": [
      "================================\u001b[1m Human Message \u001b[0m=================================\n",
      "\n",
      "Provide me the top 10 recent AI news for MArch 3rd 2025,add 5 plus 5 and then multiply by 10\n",
      "==================================\u001b[1m Ai Message \u001b[0m==================================\n",
      "Tool Calls:\n",
      "  tavily_search_results_json (call_Zfg9SnCEUdOhZ98lPqN61Fsc)\n",
      " Call ID: call_Zfg9SnCEUdOhZ98lPqN61Fsc\n",
      "  Args:\n",
      "    query: top 10 recent AI news for March 3rd 2025\n",
      "  multiply (call_aJOlLEOEkOgssSAuZhyTPJCm)\n",
      " Call ID: call_aJOlLEOEkOgssSAuZhyTPJCm\n",
      "  Args:\n",
      "    a: 10\n",
      "    b: 10\n",
      "=================================\u001b[1m Tool Message \u001b[0m=================================\n",
      "Name: tavily_search_results_json\n",
      "\n",
      "[{\"title\": \"AI INTELLIGENCE | Weekly Top 10 (3/14/25)\", \"url\": \"https://dwealth.news/2025/03/ai-intelligence-weekly-top-10-3-14-25/\", \"content\": \"TheAI Intelligence Weekly Top 10column presents the most viral topics in artificial intelligence for the week of 3/14/25.\", \"score\": 0.98561}, {\"title\": \"Top 5 AI trends in March 2025: AI agents, smarter supply ...\", \"url\": \"https://www.neudesic.com/blog/top-5-ai-trends-march-2025/\", \"content\": \"1. OpenAI Releases New Tools for Building AI Agents · 2. Microsoft's KBLaM: External Knowledge Integration for LLMs · 3. Neudesic's AI-Powered\", \"score\": 0.97811}, {\"title\": \"AI Pulse News Roundup (March 2025 Edition)\", \"url\": \"https://community.openai.com/t/ai-pulse-news-roundup-march-2025-edition/1132414\", \"content\": \"Mar 1, 2025—Newsguard testedten leading AIservices, including OpenAI's ChatGPT, xAI's Grok, Google's Gemini, Microsoft's Copilot, and Anthropic's Claude.\", \"score\": 0.97804}, {\"title\": \"Top 10 in Tech – March 2025 - Digitopia\", \"url\": \"https://digitopia.co/blog/top-10-in-tech-march-2025/\", \"content\": \"Mar 27, 2025—1-Government AI roll-outs threatened by outdated IT systems. A new report by the UK's Public Accounts Committee warns that the government's\", \"score\": 0.97435}, {\"title\": \"The latest AI news we announced in March\", \"url\": \"https://blog.google/technology/ai/google-ai-updates-march-2025/\", \"content\": \"Here's a recap of some of our biggest AI updates from March, including Gemini 2.5 Pro, expanded access to AI Overviews, the release of AI Mode and more.\", \"score\": 0.97375}]\n",
      "=================================\u001b[1m Tool Message \u001b[0m=================================\n",
      "Name: multiply\n",
      "\n",
      "100\n",
      "==================================\u001b[1m Ai Message \u001b[0m==================================\n",
      "\n",
      "Here are the top 5 recent AI news for March 3rd, 2025:\n",
      "\n",
      "1. [AI INTELLIGENCE | Weekly Top 10 (3/14/25)](https://dwealth.news/2025/03/ai-intelligence-weekly-top-10-3-14-25/): The AI Intelligence Weekly Top 10 column presents the most viral topics in artificial intelligence for the week of 3/14/25.\n",
      "\n",
      "2. [Top 5 AI trends in March 2025: AI agents, smarter supply ...](https://www.neudesic.com/blog/top-5-ai-trends-march-2025/): This article discusses the top 5 AI trends in March 2025, including OpenAI releases new tools for building AI agents and more.\n",
      "\n",
      "3. [AI Pulse News Roundup (March 2025 Edition)](https://community.openai.com/t/ai-pulse-news-roundup-march-2025-edition/1132414): News summary from March 2025 covering news about testing ten leading AI services like OpenAI's ChatGPT, xAI's Grok, Google's Gemini, Microsoft's Copilot, and Anthropic's Claude.\n",
      "\n",
      "4. [Top 10 in Tech – March 2025 - Digitopia](https://digitopia.co/blog/top-10-in-tech-march-2025/): Highlights include government AI roll-outs threatened by outdated IT systems, based on a report by the UK's Public Accounts Committee.\n",
      "\n",
      "5. [The latest AI news we announced in March](https://blog.google/technology/ai/google-ai-updates-march-2025/): Google announced new updates from March, such as Gemini 2.5 Pro, expanded access to AI Overviews, and the release of AI Mode.\n",
      "\n",
      "Now, to calculate 5 plus 5 and then multiply by 10:\n",
      "Tool Calls:\n",
      "  multiply (call_JKKi0YRyUYAnvKQLy2jvMGgM)\n",
      " Call ID: call_JKKi0YRyUYAnvKQLy2jvMGgM\n",
      "  Args:\n",
      "    a: 10\n",
      "    b: 10\n",
      "=================================\u001b[1m Tool Message \u001b[0m=================================\n",
      "Name: multiply\n",
      "\n",
      "100\n",
      "==================================\u001b[1m Ai Message \u001b[0m==================================\n",
      "\n",
      "The result of adding 5 and 5 and then multiplying by 10 is 100.\n"
     ]
    }
   ],
   "source": [
    "messages=graph.invoke({\"messages\":HumanMessage(content=\"Provide me the top 10 recent AI news for MArch 3rd 2025,add 5 plus 5 and then multiply by 10\")})\n",
    "for m in messages['messages']:\n",
    "    m.pretty_print()"
   ]
  },
  {
   "cell_type": "code",
   "execution_count": 26,
   "id": "56ba15eb",
   "metadata": {},
   "outputs": [
    {
     "name": "stdout",
     "output_type": "stream",
     "text": [
      "================================\u001b[1m Human Message \u001b[0m=================================\n",
      "\n",
      "What is 5 plus 8\n",
      "==================================\u001b[1m Ai Message \u001b[0m==================================\n",
      "Tool Calls:\n",
      "  add (call_D7iMMYYggwm9H2eDrHLYcOal)\n",
      " Call ID: call_D7iMMYYggwm9H2eDrHLYcOal\n",
      "  Args:\n",
      "    a: 5\n",
      "    b: 8\n",
      "=================================\u001b[1m Tool Message \u001b[0m=================================\n",
      "Name: add\n",
      "\n",
      "13\n",
      "==================================\u001b[1m Ai Message \u001b[0m==================================\n",
      "\n",
      "5 plus 8 is equal to 13.\n"
     ]
    }
   ],
   "source": [
    "### Agent Memory\n",
    "messages=graph.invoke({\"messages\":HumanMessage(content=\"What is 5 plus 8\")})\n",
    "for m in messages['messages']:\n",
    "     m.pretty_print()"
   ]
  },
  {
   "cell_type": "code",
   "execution_count": 28,
   "id": "cc263000",
   "metadata": {},
   "outputs": [
    {
     "name": "stdout",
     "output_type": "stream",
     "text": [
      "================================\u001b[1m Human Message \u001b[0m=================================\n",
      "\n",
      "Divide that by 5\n",
      "==================================\u001b[1m Ai Message \u001b[0m==================================\n",
      "Tool Calls:\n",
      "  divide (call_WwIiuqYzbTwnDJArN1k5EQnS)\n",
      " Call ID: call_WwIiuqYzbTwnDJArN1k5EQnS\n",
      "  Args:\n",
      "    a: 10\n",
      "    b: 5\n",
      "=================================\u001b[1m Tool Message \u001b[0m=================================\n",
      "Name: divide\n",
      "\n",
      "2.0\n",
      "==================================\u001b[1m Ai Message \u001b[0m==================================\n",
      "\n",
      "The result of dividing 10 by 5 is 2.\n"
     ]
    }
   ],
   "source": [
    "messages=[HumanMessage(content=\"Divide that by 5\")]\n",
    "messages=graph.invoke({\"messages\":messages})\n",
    "for m in messages['messages']:\n",
    "    m.pretty_print()"
   ]
  },
  {
   "cell_type": "code",
   "execution_count": 29,
   "id": "bb240fe0",
   "metadata": {},
   "outputs": [],
   "source": [
    "#### MemorySaver\n",
    "\n",
    "from langchain_openai import ChatOpenAI\n",
    "llm = ChatOpenAI(model=\"gpt-4o\")\n",
    "llm_with_tools = llm.bind_tools(tools)"
   ]
  },
  {
   "cell_type": "code",
   "execution_count": 32,
   "id": "47226863",
   "metadata": {},
   "outputs": [
    {
     "data": {
      "text/plain": [
       "<langgraph.graph.state.StateGraph at 0x29f78cac190>"
      ]
     },
     "execution_count": 32,
     "metadata": {},
     "output_type": "execute_result"
    }
   ],
   "source": [
    "### Entire Chatbot With LangGraph\n",
    "from IPython.display import Image, display\n",
    "from langgraph.graph import StateGraph, START, END\n",
    "from langgraph.prebuilt import ToolNode\n",
    "from langgraph.prebuilt import tools_condition\n",
    "### Node definition\n",
    "def tool_calling_llm(state:State):\n",
    "    return {\"messages\":[llm_with_tools.invoke(state[\"messages\"])]}\n",
    "# Build graph\n",
    "builder = StateGraph(State)\n",
    "builder.add_node(\"tool_calling_llm\", tool_calling_llm)\n",
    "builder.add_node(\"tools\", ToolNode(tools))\n",
    "builder.add_edge(START, \"tool_calling_llm\")\n",
    "builder.add_conditional_edges(\n",
    "    \"tool_calling_llm\",\n",
    "    # If the latest message (result) from assistant is a tool call -> tools_condition routes to tools\\n\",\n",
    "    # If the latest message (result) from assistant is a not a tool call -> tools_condition routes to END\\n\",\n",
    "    tools_condition\n",
    ")\n",
    "builder.add_edge(\"tools\",\"tool_calling_llm\")"
   ]
  },
  {
   "cell_type": "code",
   "execution_count": 33,
   "id": "1f5511e0",
   "metadata": {},
   "outputs": [
    {
     "data": {
      "image/png": "[encoded data removed]",
      "text/plain": [
       "<IPython.core.display.Image object>"
      ]
     },
     "metadata": {},
     "output_type": "display_data"
    }
   ],
   "source": [
    "from langgraph.checkpoint.memory import MemorySaver\n",
    "memory=MemorySaver()\n",
    "graph_memory = builder.compile(checkpointer=memory)\n",
    "# View\n",
    "display(Image(graph_memory.get_graph().draw_mermaid_png()))"
   ]
  },
  {
   "cell_type": "code",
   "execution_count": 35,
   "id": "0f3c2441",
   "metadata": {},
   "outputs": [
    {
     "name": "stdout",
     "output_type": "stream",
     "text": [
      "================================\u001b[1m Human Message \u001b[0m=================================\n",
      "\n",
      "Add 12 and 13\n",
      "==================================\u001b[1m Ai Message \u001b[0m==================================\n",
      "Tool Calls:\n",
      "  add (call_UdoHI9SnCYJGhLtmcDSxjVlb)\n",
      " Call ID: call_UdoHI9SnCYJGhLtmcDSxjVlb\n",
      "  Args:\n",
      "    a: 12\n",
      "    b: 13\n",
      "=================================\u001b[1m Tool Message \u001b[0m=================================\n",
      "Name: add\n",
      "\n",
      "25\n",
      "==================================\u001b[1m Ai Message \u001b[0m==================================\n",
      "\n",
      "12 plus 13 equals 25.\n"
     ]
    }
   ],
   "source": [
    "# Specify an input\n",
    "config={\"configurable\":{\"thread_id\":\"1\"}}\n",
    "messages = [HumanMessage(content=\"Add 12 and 13\")]\n",
    "messages=graph_memory.invoke({\"messages\":messages},config=config)\n",
    "for m in messages['messages']:\n",
    "    m.pretty_print()"
   ]
  },
  {
   "cell_type": "code",
   "execution_count": 36,
   "id": "ba00a127",
   "metadata": {},
   "outputs": [
    {
     "name": "stdout",
     "output_type": "stream",
     "text": [
      "================================\u001b[1m Human Message \u001b[0m=================================\n",
      "\n",
      "Add 12 and 13\n",
      "==================================\u001b[1m Ai Message \u001b[0m==================================\n",
      "Tool Calls:\n",
      "  add (call_UdoHI9SnCYJGhLtmcDSxjVlb)\n",
      " Call ID: call_UdoHI9SnCYJGhLtmcDSxjVlb\n",
      "  Args:\n",
      "    a: 12\n",
      "    b: 13\n",
      "=================================\u001b[1m Tool Message \u001b[0m=================================\n",
      "Name: add\n",
      "\n",
      "25\n",
      "==================================\u001b[1m Ai Message \u001b[0m==================================\n",
      "\n",
      "12 plus 13 equals 25.\n",
      "================================\u001b[1m Human Message \u001b[0m=================================\n",
      "\n",
      "add that number to 25\n",
      "==================================\u001b[1m Ai Message \u001b[0m==================================\n",
      "Tool Calls:\n",
      "  add (call_GsVCtll0wpp2h5OBbf1Sem3t)\n",
      " Call ID: call_GsVCtll0wpp2h5OBbf1Sem3t\n",
      "  Args:\n",
      "    a: 25\n",
      "    b: 25\n",
      "=================================\u001b[1m Tool Message \u001b[0m=================================\n",
      "Name: add\n",
      "\n",
      "50\n",
      "==================================\u001b[1m Ai Message \u001b[0m==================================\n",
      "\n",
      "25 plus 25 equals 50.\n"
     ]
    }
   ],
   "source": [
    "messages = [HumanMessage(content=\"add that number to 25\")]\n",
    "messages=graph_memory.invoke({\"messages\":messages},config=config)\n",
    "for m in messages['messages']:\n",
    "    m.pretty_print()"
   ]
  },
  {
   "cell_type": "code",
   "execution_count": 37,
   "id": "a515c67c",
   "metadata": {},
   "outputs": [
    {
     "name": "stdout",
     "output_type": "stream",
     "text": [
      "================================\u001b[1m Human Message \u001b[0m=================================\n",
      "\n",
      "Add 12 and 13\n",
      "==================================\u001b[1m Ai Message \u001b[0m==================================\n",
      "Tool Calls:\n",
      "  add (call_UdoHI9SnCYJGhLtmcDSxjVlb)\n",
      " Call ID: call_UdoHI9SnCYJGhLtmcDSxjVlb\n",
      "  Args:\n",
      "    a: 12\n",
      "    b: 13\n",
      "=================================\u001b[1m Tool Message \u001b[0m=================================\n",
      "Name: add\n",
      "\n",
      "25\n",
      "==================================\u001b[1m Ai Message \u001b[0m==================================\n",
      "\n",
      "12 plus 13 equals 25.\n",
      "================================\u001b[1m Human Message \u001b[0m=================================\n",
      "\n",
      "add that number to 25\n",
      "==================================\u001b[1m Ai Message \u001b[0m==================================\n",
      "Tool Calls:\n",
      "  add (call_GsVCtll0wpp2h5OBbf1Sem3t)\n",
      " Call ID: call_GsVCtll0wpp2h5OBbf1Sem3t\n",
      "  Args:\n",
      "    a: 25\n",
      "    b: 25\n",
      "=================================\u001b[1m Tool Message \u001b[0m=================================\n",
      "Name: add\n",
      "\n",
      "50\n",
      "==================================\u001b[1m Ai Message \u001b[0m==================================\n",
      "\n",
      "25 plus 25 equals 50.\n",
      "================================\u001b[1m Human Message \u001b[0m=================================\n",
      "\n",
      "then multiplty that number by 2\n",
      "==================================\u001b[1m Ai Message \u001b[0m==================================\n",
      "Tool Calls:\n",
      "  multiply (call_ERR9XqfMnD6Lcnwzf3CaglE7)\n",
      " Call ID: call_ERR9XqfMnD6Lcnwzf3CaglE7\n",
      "  Args:\n",
      "    a: 50\n",
      "    b: 2\n",
      "=================================\u001b[1m Tool Message \u001b[0m=================================\n",
      "Name: multiply\n",
      "\n",
      "100\n",
      "==================================\u001b[1m Ai Message \u001b[0m==================================\n",
      "\n",
      "50 multiplied by 2 equals 100.\n"
     ]
    }
   ],
   "source": [
    "messages = [HumanMessage(content=\"then multiplty that number by 2\")]\n",
    "messages=graph_memory.invoke({\"messages\":messages},config=config)\n",
    "for m in messages['messages']:\n",
    "    m.pretty_print()"
   ]
  }
 ],
 "metadata": {
  "kernelspec": {
   "display_name": "env",
   "language": "python",
   "name": "python3"
  },
  "language_info": {
   "codemirror_mode": {
    "name": "ipython",
    "version": 3
   },
   "file_extension": ".py",
   "mimetype": "text/x-python",
   "name": "python",
   "nbconvert_exporter": "python",
   "pygments_lexer": "ipython3",
   "version": "3.13.5"
  }
 },
 "nbformat": 4,
 "nbformat_minor": 5
}
